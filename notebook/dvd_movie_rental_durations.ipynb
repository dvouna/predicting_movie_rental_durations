{
 "cells": [
  {
   "cell_type": "markdown",
   "id": "b4ae5707-109f-4cd6-8168-88cac0179d6b",
   "metadata": {},
   "source": [
    "![dvd_image](dvd_image.jpg)\n",
    "\n",
    "A DVD rental company needs your help! They want to figure out how many days a customer will rent a DVD for based on some features and has approached you for help. They want you to try out some regression models which will help predict the number of days a customer will rent a DVD for. The company wants a model which yeilds a MSE of 3 or less on a test set. The model you make will help the company become more efficient inventory planning.\n",
    "\n",
    "The data they provided is in the csv file `rental_info.csv`. It has the following features:\n",
    "- `\"rental_date\"`: The date (and time) the customer rents the DVD.\n",
    "- `\"return_date\"`: The date (and time) the customer returns the DVD.\n",
    "- `\"amount\"`: The amount paid by the customer for renting the DVD.\n",
    "- `\"amount_2\"`: The square of `\"amount\"`.\n",
    "- `\"rental_rate\"`: The rate at which the DVD is rented for.\n",
    "- `\"rental_rate_2\"`: The square of `\"rental_rate\"`.\n",
    "- `\"release_year\"`: The year the movie being rented was released.\n",
    "- `\"length\"`: Lenght of the movie being rented, in minuites.\n",
    "- `\"length_2\"`: The square of `\"length\"`.\n",
    "- `\"replacement_cost\"`: The amount it will cost the company to replace the DVD.\n",
    "- `\"special_features\"`: Any special features, for example trailers/deleted scenes that the DVD also has.\n",
    "- `\"NC-17\"`, `\"PG\"`, `\"PG-13\"`, `\"R\"`: These columns are dummy variables of the rating of the movie. It takes the value 1 if the move is rated as the column name and 0 otherwise. For your convinience, the reference dummy has already been dropped."
   ]
  },
  {
   "cell_type": "code",
   "execution_count": 1,
   "id": "a7ede566-910a-445c-b11a-68d192ac8506",
   "metadata": {
    "executionCancelledAt": null,
    "executionTime": 51,
    "lastExecutedAt": 1741899834247,
    "lastExecutedByKernel": "2efbfe2b-8bb0-45f0-944a-1ebd979cde12",
    "lastScheduledRunId": null,
    "lastSuccessfullyExecutedCode": "import pandas as pd\nimport numpy as np\n\nfrom sklearn.model_selection import train_test_split\nfrom sklearn.metrics import mean_squared_error\n\n# Import any additional modules and start coding below \nfrom sklearn.linear_model import Lasso, LinearRegression \nfrom sklearn.preprocessing import StandardScaler \nfrom sklearn.ensemble import RandomForestRegressor\nfrom sklearn.model_selection import RandomizedSearchCV\nimport matplotlib.pyplot as plt ",
    "outputsMetadata": {
     "0": {
      "height": 479,
      "type": "stream"
     }
    }
   },
   "outputs": [],
   "source": [
    "import pandas as pd\n",
    "import numpy as np\n",
    "from sklearn.model_selection import train_test_split\n",
    "from sklearn.metrics import mean_squared_error\n",
    "from sklearn.linear_model import Lasso, LinearRegression \n",
    "from sklearn.preprocessing import StandardScaler \n",
    "from sklearn.ensemble import RandomForestRegressor\n",
    "from sklearn.model_selection import RandomizedSearchCV\n",
    " "
   ]
  },
  {
   "cell_type": "code",
   "execution_count": 2,
   "id": "ff500c20-f1cf-4c3a-90c9-9e9137763176",
   "metadata": {
    "executionCancelledAt": null,
    "executionTime": 56,
    "lastExecutedAt": 1741899834303,
    "lastExecutedByKernel": "2efbfe2b-8bb0-45f0-944a-1ebd979cde12",
    "lastScheduledRunId": null,
    "lastSuccessfullyExecutedCode": "# Load data \nmovie_rentals = pd.read_csv('rental_info.csv') \nmovie_rentals.info()",
    "outputsMetadata": {
     "0": {
      "height": 479,
      "type": "stream"
     }
    }
   },
   "outputs": [
    {
     "name": "stdout",
     "output_type": "stream",
     "text": [
      "<class 'pandas.core.frame.DataFrame'>\n",
      "RangeIndex: 15861 entries, 0 to 15860\n",
      "Data columns (total 15 columns):\n",
      " #   Column            Non-Null Count  Dtype  \n",
      "---  ------            --------------  -----  \n",
      " 0   rental_date       15861 non-null  object \n",
      " 1   return_date       15861 non-null  object \n",
      " 2   amount            15861 non-null  float64\n",
      " 3   release_year      15861 non-null  float64\n",
      " 4   rental_rate       15861 non-null  float64\n",
      " 5   length            15861 non-null  float64\n",
      " 6   replacement_cost  15861 non-null  float64\n",
      " 7   special_features  15861 non-null  object \n",
      " 8   NC-17             15861 non-null  int64  \n",
      " 9   PG                15861 non-null  int64  \n",
      " 10  PG-13             15861 non-null  int64  \n",
      " 11  R                 15861 non-null  int64  \n",
      " 12  amount_2          15861 non-null  float64\n",
      " 13  length_2          15861 non-null  float64\n",
      " 14  rental_rate_2     15861 non-null  float64\n",
      "dtypes: float64(8), int64(4), object(3)\n",
      "memory usage: 1.8+ MB\n",
      "None\n"
     ]
    }
   ],
   "source": [
    "# Load the dataset\n",
    "movie_rentals = pd.read_csv('rental_info.csv') \n",
    "print(movie_rentals.info())"
   ]
  },
  {
   "cell_type": "code",
   "execution_count": 3,
   "id": "ddae4811-e212-49d6-9bfe-7a13668f2eed",
   "metadata": {
    "executionCancelledAt": null,
    "executionTime": 64,
    "lastExecutedAt": 1741899834367,
    "lastExecutedByKernel": "2efbfe2b-8bb0-45f0-944a-1ebd979cde12",
    "lastScheduledRunId": null,
    "lastSuccessfullyExecutedCode": "# Explore Data \nmovie_rentals.head(10)",
    "outputsMetadata": {
     "0": {
      "height": 50,
      "tableState": {
       "customFilter": {
        "const": {
         "type": "boolean",
         "valid": true,
         "value": true
        },
        "id": "86cd9054-0616-49a7-a0c2-cfc43375fa58",
        "nodeType": "const"
       },
       "quickFilterText": ""
      },
      "type": "dataFrame"
     }
    }
   },
   "outputs": [
    {
     "data": {
      "application/vnd.microsoft.datawrangler.viewer.v0+json": {
       "columns": [
        {
         "name": "index",
         "rawType": "int64",
         "type": "integer"
        },
        {
         "name": "rental_date",
         "rawType": "object",
         "type": "string"
        },
        {
         "name": "return_date",
         "rawType": "object",
         "type": "string"
        },
        {
         "name": "amount",
         "rawType": "float64",
         "type": "float"
        },
        {
         "name": "release_year",
         "rawType": "float64",
         "type": "float"
        },
        {
         "name": "rental_rate",
         "rawType": "float64",
         "type": "float"
        },
        {
         "name": "length",
         "rawType": "float64",
         "type": "float"
        },
        {
         "name": "replacement_cost",
         "rawType": "float64",
         "type": "float"
        },
        {
         "name": "special_features",
         "rawType": "object",
         "type": "string"
        },
        {
         "name": "NC-17",
         "rawType": "int64",
         "type": "integer"
        },
        {
         "name": "PG",
         "rawType": "int64",
         "type": "integer"
        },
        {
         "name": "PG-13",
         "rawType": "int64",
         "type": "integer"
        },
        {
         "name": "R",
         "rawType": "int64",
         "type": "integer"
        },
        {
         "name": "amount_2",
         "rawType": "float64",
         "type": "float"
        },
        {
         "name": "length_2",
         "rawType": "float64",
         "type": "float"
        },
        {
         "name": "rental_rate_2",
         "rawType": "float64",
         "type": "float"
        }
       ],
       "ref": "f90c6f10-e6bb-4f14-8dbd-3ca1a955711d",
       "rows": [
        [
         "0",
         "2005-05-25 02:54:33+00:00",
         "2005-05-28 23:40:33+00:00",
         "2.99",
         "2005.0",
         "2.99",
         "126.0",
         "16.99",
         "{Trailers,\"Behind the Scenes\"}",
         "0",
         "0",
         "0",
         "1",
         "8.940100000000001",
         "15876.0",
         "8.940100000000001"
        ],
        [
         "1",
         "2005-06-15 23:19:16+00:00",
         "2005-06-18 19:24:16+00:00",
         "2.99",
         "2005.0",
         "2.99",
         "126.0",
         "16.99",
         "{Trailers,\"Behind the Scenes\"}",
         "0",
         "0",
         "0",
         "1",
         "8.940100000000001",
         "15876.0",
         "8.940100000000001"
        ],
        [
         "2",
         "2005-07-10 04:27:45+00:00",
         "2005-07-17 10:11:45+00:00",
         "2.99",
         "2005.0",
         "2.99",
         "126.0",
         "16.99",
         "{Trailers,\"Behind the Scenes\"}",
         "0",
         "0",
         "0",
         "1",
         "8.940100000000001",
         "15876.0",
         "8.940100000000001"
        ],
        [
         "3",
         "2005-07-31 12:06:41+00:00",
         "2005-08-02 14:30:41+00:00",
         "2.99",
         "2005.0",
         "2.99",
         "126.0",
         "16.99",
         "{Trailers,\"Behind the Scenes\"}",
         "0",
         "0",
         "0",
         "1",
         "8.940100000000001",
         "15876.0",
         "8.940100000000001"
        ],
        [
         "4",
         "2005-08-19 12:30:04+00:00",
         "2005-08-23 13:35:04+00:00",
         "2.99",
         "2005.0",
         "2.99",
         "126.0",
         "16.99",
         "{Trailers,\"Behind the Scenes\"}",
         "0",
         "0",
         "0",
         "1",
         "8.940100000000001",
         "15876.0",
         "8.940100000000001"
        ],
        [
         "5",
         "2005-05-29 16:51:44+00:00",
         "2005-06-01 21:43:44+00:00",
         "2.99",
         "2005.0",
         "2.99",
         "126.0",
         "16.99",
         "{Trailers,\"Behind the Scenes\"}",
         "0",
         "0",
         "0",
         "1",
         "8.940100000000001",
         "15876.0",
         "8.940100000000001"
        ],
        [
         "6",
         "2005-06-17 19:42:42+00:00",
         "2005-06-22 20:39:42+00:00",
         "2.99",
         "2005.0",
         "2.99",
         "126.0",
         "16.99",
         "{Trailers,\"Behind the Scenes\"}",
         "0",
         "0",
         "0",
         "1",
         "8.940100000000001",
         "15876.0",
         "8.940100000000001"
        ],
        [
         "7",
         "2005-07-09 18:23:46+00:00",
         "2005-07-13 19:04:46+00:00",
         "2.99",
         "2005.0",
         "2.99",
         "126.0",
         "16.99",
         "{Trailers,\"Behind the Scenes\"}",
         "0",
         "0",
         "0",
         "1",
         "8.940100000000001",
         "15876.0",
         "8.940100000000001"
        ],
        [
         "8",
         "2005-07-27 13:16:28+00:00",
         "2005-07-28 13:40:28+00:00",
         "2.99",
         "2005.0",
         "2.99",
         "126.0",
         "16.99",
         "{Trailers,\"Behind the Scenes\"}",
         "0",
         "0",
         "0",
         "1",
         "8.940100000000001",
         "15876.0",
         "8.940100000000001"
        ],
        [
         "9",
         "2005-08-21 13:53:52+00:00",
         "2005-08-25 09:03:52+00:00",
         "2.99",
         "2005.0",
         "2.99",
         "126.0",
         "16.99",
         "{Trailers,\"Behind the Scenes\"}",
         "0",
         "0",
         "0",
         "1",
         "8.940100000000001",
         "15876.0",
         "8.940100000000001"
        ]
       ],
       "shape": {
        "columns": 15,
        "rows": 10
       }
      },
      "text/html": [
       "<div>\n",
       "<style scoped>\n",
       "    .dataframe tbody tr th:only-of-type {\n",
       "        vertical-align: middle;\n",
       "    }\n",
       "\n",
       "    .dataframe tbody tr th {\n",
       "        vertical-align: top;\n",
       "    }\n",
       "\n",
       "    .dataframe thead th {\n",
       "        text-align: right;\n",
       "    }\n",
       "</style>\n",
       "<table border=\"1\" class=\"dataframe\">\n",
       "  <thead>\n",
       "    <tr style=\"text-align: right;\">\n",
       "      <th></th>\n",
       "      <th>rental_date</th>\n",
       "      <th>return_date</th>\n",
       "      <th>amount</th>\n",
       "      <th>release_year</th>\n",
       "      <th>rental_rate</th>\n",
       "      <th>length</th>\n",
       "      <th>replacement_cost</th>\n",
       "      <th>special_features</th>\n",
       "      <th>NC-17</th>\n",
       "      <th>PG</th>\n",
       "      <th>PG-13</th>\n",
       "      <th>R</th>\n",
       "      <th>amount_2</th>\n",
       "      <th>length_2</th>\n",
       "      <th>rental_rate_2</th>\n",
       "    </tr>\n",
       "  </thead>\n",
       "  <tbody>\n",
       "    <tr>\n",
       "      <th>0</th>\n",
       "      <td>2005-05-25 02:54:33+00:00</td>\n",
       "      <td>2005-05-28 23:40:33+00:00</td>\n",
       "      <td>2.99</td>\n",
       "      <td>2005.0</td>\n",
       "      <td>2.99</td>\n",
       "      <td>126.0</td>\n",
       "      <td>16.99</td>\n",
       "      <td>{Trailers,\"Behind the Scenes\"}</td>\n",
       "      <td>0</td>\n",
       "      <td>0</td>\n",
       "      <td>0</td>\n",
       "      <td>1</td>\n",
       "      <td>8.9401</td>\n",
       "      <td>15876.0</td>\n",
       "      <td>8.9401</td>\n",
       "    </tr>\n",
       "    <tr>\n",
       "      <th>1</th>\n",
       "      <td>2005-06-15 23:19:16+00:00</td>\n",
       "      <td>2005-06-18 19:24:16+00:00</td>\n",
       "      <td>2.99</td>\n",
       "      <td>2005.0</td>\n",
       "      <td>2.99</td>\n",
       "      <td>126.0</td>\n",
       "      <td>16.99</td>\n",
       "      <td>{Trailers,\"Behind the Scenes\"}</td>\n",
       "      <td>0</td>\n",
       "      <td>0</td>\n",
       "      <td>0</td>\n",
       "      <td>1</td>\n",
       "      <td>8.9401</td>\n",
       "      <td>15876.0</td>\n",
       "      <td>8.9401</td>\n",
       "    </tr>\n",
       "    <tr>\n",
       "      <th>2</th>\n",
       "      <td>2005-07-10 04:27:45+00:00</td>\n",
       "      <td>2005-07-17 10:11:45+00:00</td>\n",
       "      <td>2.99</td>\n",
       "      <td>2005.0</td>\n",
       "      <td>2.99</td>\n",
       "      <td>126.0</td>\n",
       "      <td>16.99</td>\n",
       "      <td>{Trailers,\"Behind the Scenes\"}</td>\n",
       "      <td>0</td>\n",
       "      <td>0</td>\n",
       "      <td>0</td>\n",
       "      <td>1</td>\n",
       "      <td>8.9401</td>\n",
       "      <td>15876.0</td>\n",
       "      <td>8.9401</td>\n",
       "    </tr>\n",
       "    <tr>\n",
       "      <th>3</th>\n",
       "      <td>2005-07-31 12:06:41+00:00</td>\n",
       "      <td>2005-08-02 14:30:41+00:00</td>\n",
       "      <td>2.99</td>\n",
       "      <td>2005.0</td>\n",
       "      <td>2.99</td>\n",
       "      <td>126.0</td>\n",
       "      <td>16.99</td>\n",
       "      <td>{Trailers,\"Behind the Scenes\"}</td>\n",
       "      <td>0</td>\n",
       "      <td>0</td>\n",
       "      <td>0</td>\n",
       "      <td>1</td>\n",
       "      <td>8.9401</td>\n",
       "      <td>15876.0</td>\n",
       "      <td>8.9401</td>\n",
       "    </tr>\n",
       "    <tr>\n",
       "      <th>4</th>\n",
       "      <td>2005-08-19 12:30:04+00:00</td>\n",
       "      <td>2005-08-23 13:35:04+00:00</td>\n",
       "      <td>2.99</td>\n",
       "      <td>2005.0</td>\n",
       "      <td>2.99</td>\n",
       "      <td>126.0</td>\n",
       "      <td>16.99</td>\n",
       "      <td>{Trailers,\"Behind the Scenes\"}</td>\n",
       "      <td>0</td>\n",
       "      <td>0</td>\n",
       "      <td>0</td>\n",
       "      <td>1</td>\n",
       "      <td>8.9401</td>\n",
       "      <td>15876.0</td>\n",
       "      <td>8.9401</td>\n",
       "    </tr>\n",
       "    <tr>\n",
       "      <th>5</th>\n",
       "      <td>2005-05-29 16:51:44+00:00</td>\n",
       "      <td>2005-06-01 21:43:44+00:00</td>\n",
       "      <td>2.99</td>\n",
       "      <td>2005.0</td>\n",
       "      <td>2.99</td>\n",
       "      <td>126.0</td>\n",
       "      <td>16.99</td>\n",
       "      <td>{Trailers,\"Behind the Scenes\"}</td>\n",
       "      <td>0</td>\n",
       "      <td>0</td>\n",
       "      <td>0</td>\n",
       "      <td>1</td>\n",
       "      <td>8.9401</td>\n",
       "      <td>15876.0</td>\n",
       "      <td>8.9401</td>\n",
       "    </tr>\n",
       "    <tr>\n",
       "      <th>6</th>\n",
       "      <td>2005-06-17 19:42:42+00:00</td>\n",
       "      <td>2005-06-22 20:39:42+00:00</td>\n",
       "      <td>2.99</td>\n",
       "      <td>2005.0</td>\n",
       "      <td>2.99</td>\n",
       "      <td>126.0</td>\n",
       "      <td>16.99</td>\n",
       "      <td>{Trailers,\"Behind the Scenes\"}</td>\n",
       "      <td>0</td>\n",
       "      <td>0</td>\n",
       "      <td>0</td>\n",
       "      <td>1</td>\n",
       "      <td>8.9401</td>\n",
       "      <td>15876.0</td>\n",
       "      <td>8.9401</td>\n",
       "    </tr>\n",
       "    <tr>\n",
       "      <th>7</th>\n",
       "      <td>2005-07-09 18:23:46+00:00</td>\n",
       "      <td>2005-07-13 19:04:46+00:00</td>\n",
       "      <td>2.99</td>\n",
       "      <td>2005.0</td>\n",
       "      <td>2.99</td>\n",
       "      <td>126.0</td>\n",
       "      <td>16.99</td>\n",
       "      <td>{Trailers,\"Behind the Scenes\"}</td>\n",
       "      <td>0</td>\n",
       "      <td>0</td>\n",
       "      <td>0</td>\n",
       "      <td>1</td>\n",
       "      <td>8.9401</td>\n",
       "      <td>15876.0</td>\n",
       "      <td>8.9401</td>\n",
       "    </tr>\n",
       "    <tr>\n",
       "      <th>8</th>\n",
       "      <td>2005-07-27 13:16:28+00:00</td>\n",
       "      <td>2005-07-28 13:40:28+00:00</td>\n",
       "      <td>2.99</td>\n",
       "      <td>2005.0</td>\n",
       "      <td>2.99</td>\n",
       "      <td>126.0</td>\n",
       "      <td>16.99</td>\n",
       "      <td>{Trailers,\"Behind the Scenes\"}</td>\n",
       "      <td>0</td>\n",
       "      <td>0</td>\n",
       "      <td>0</td>\n",
       "      <td>1</td>\n",
       "      <td>8.9401</td>\n",
       "      <td>15876.0</td>\n",
       "      <td>8.9401</td>\n",
       "    </tr>\n",
       "    <tr>\n",
       "      <th>9</th>\n",
       "      <td>2005-08-21 13:53:52+00:00</td>\n",
       "      <td>2005-08-25 09:03:52+00:00</td>\n",
       "      <td>2.99</td>\n",
       "      <td>2005.0</td>\n",
       "      <td>2.99</td>\n",
       "      <td>126.0</td>\n",
       "      <td>16.99</td>\n",
       "      <td>{Trailers,\"Behind the Scenes\"}</td>\n",
       "      <td>0</td>\n",
       "      <td>0</td>\n",
       "      <td>0</td>\n",
       "      <td>1</td>\n",
       "      <td>8.9401</td>\n",
       "      <td>15876.0</td>\n",
       "      <td>8.9401</td>\n",
       "    </tr>\n",
       "  </tbody>\n",
       "</table>\n",
       "</div>"
      ],
      "text/plain": [
       "                 rental_date                return_date  amount  release_year  \\\n",
       "0  2005-05-25 02:54:33+00:00  2005-05-28 23:40:33+00:00    2.99        2005.0   \n",
       "1  2005-06-15 23:19:16+00:00  2005-06-18 19:24:16+00:00    2.99        2005.0   \n",
       "2  2005-07-10 04:27:45+00:00  2005-07-17 10:11:45+00:00    2.99        2005.0   \n",
       "3  2005-07-31 12:06:41+00:00  2005-08-02 14:30:41+00:00    2.99        2005.0   \n",
       "4  2005-08-19 12:30:04+00:00  2005-08-23 13:35:04+00:00    2.99        2005.0   \n",
       "5  2005-05-29 16:51:44+00:00  2005-06-01 21:43:44+00:00    2.99        2005.0   \n",
       "6  2005-06-17 19:42:42+00:00  2005-06-22 20:39:42+00:00    2.99        2005.0   \n",
       "7  2005-07-09 18:23:46+00:00  2005-07-13 19:04:46+00:00    2.99        2005.0   \n",
       "8  2005-07-27 13:16:28+00:00  2005-07-28 13:40:28+00:00    2.99        2005.0   \n",
       "9  2005-08-21 13:53:52+00:00  2005-08-25 09:03:52+00:00    2.99        2005.0   \n",
       "\n",
       "   rental_rate  length  replacement_cost                special_features  \\\n",
       "0         2.99   126.0             16.99  {Trailers,\"Behind the Scenes\"}   \n",
       "1         2.99   126.0             16.99  {Trailers,\"Behind the Scenes\"}   \n",
       "2         2.99   126.0             16.99  {Trailers,\"Behind the Scenes\"}   \n",
       "3         2.99   126.0             16.99  {Trailers,\"Behind the Scenes\"}   \n",
       "4         2.99   126.0             16.99  {Trailers,\"Behind the Scenes\"}   \n",
       "5         2.99   126.0             16.99  {Trailers,\"Behind the Scenes\"}   \n",
       "6         2.99   126.0             16.99  {Trailers,\"Behind the Scenes\"}   \n",
       "7         2.99   126.0             16.99  {Trailers,\"Behind the Scenes\"}   \n",
       "8         2.99   126.0             16.99  {Trailers,\"Behind the Scenes\"}   \n",
       "9         2.99   126.0             16.99  {Trailers,\"Behind the Scenes\"}   \n",
       "\n",
       "   NC-17  PG  PG-13  R  amount_2  length_2  rental_rate_2  \n",
       "0      0   0      0  1    8.9401   15876.0         8.9401  \n",
       "1      0   0      0  1    8.9401   15876.0         8.9401  \n",
       "2      0   0      0  1    8.9401   15876.0         8.9401  \n",
       "3      0   0      0  1    8.9401   15876.0         8.9401  \n",
       "4      0   0      0  1    8.9401   15876.0         8.9401  \n",
       "5      0   0      0  1    8.9401   15876.0         8.9401  \n",
       "6      0   0      0  1    8.9401   15876.0         8.9401  \n",
       "7      0   0      0  1    8.9401   15876.0         8.9401  \n",
       "8      0   0      0  1    8.9401   15876.0         8.9401  \n",
       "9      0   0      0  1    8.9401   15876.0         8.9401  "
      ]
     },
     "execution_count": 3,
     "metadata": {},
     "output_type": "execute_result"
    }
   ],
   "source": [
    "# Explore Data \n",
    "movie_rentals.head(10)"
   ]
  },
  {
   "cell_type": "code",
   "execution_count": 4,
   "id": "38940961-0979-44ca-acd4-808976f3960f",
   "metadata": {
    "executionCancelledAt": null,
    "executionTime": 64,
    "lastExecutedAt": 1741899834431,
    "lastExecutedByKernel": "2efbfe2b-8bb0-45f0-944a-1ebd979cde12",
    "lastScheduledRunId": null,
    "lastSuccessfullyExecutedCode": "# convert columns to datetime formats \nmovie_rentals['rental_date'] = pd.to_datetime(movie_rentals['rental_date']) \nmovie_rentals['return_date'] = pd.to_datetime(movie_rentals['return_date'])\n\n# rental days\nmovie_rentals['rental_length'] = pd.to_datetime(\n    movie_rentals[\"return_date\"]) - pd.to_datetime(movie_rentals[\"rental_date\"])  \nmovie_rentals['rental_length_days'] = movie_rentals['rental_length'].dt.days \n\nmovie_rentals.info()",
    "outputsMetadata": {
     "0": {
      "height": 521,
      "type": "stream"
     }
    }
   },
   "outputs": [
    {
     "name": "stdout",
     "output_type": "stream",
     "text": [
      "<class 'pandas.core.frame.DataFrame'>\n",
      "RangeIndex: 15861 entries, 0 to 15860\n",
      "Data columns (total 17 columns):\n",
      " #   Column              Non-Null Count  Dtype              \n",
      "---  ------              --------------  -----              \n",
      " 0   rental_date         15861 non-null  datetime64[ns, UTC]\n",
      " 1   return_date         15861 non-null  datetime64[ns, UTC]\n",
      " 2   amount              15861 non-null  float64            \n",
      " 3   release_year        15861 non-null  float64            \n",
      " 4   rental_rate         15861 non-null  float64            \n",
      " 5   length              15861 non-null  float64            \n",
      " 6   replacement_cost    15861 non-null  float64            \n",
      " 7   special_features    15861 non-null  object             \n",
      " 8   NC-17               15861 non-null  int64              \n",
      " 9   PG                  15861 non-null  int64              \n",
      " 10  PG-13               15861 non-null  int64              \n",
      " 11  R                   15861 non-null  int64              \n",
      " 12  amount_2            15861 non-null  float64            \n",
      " 13  length_2            15861 non-null  float64            \n",
      " 14  rental_rate_2       15861 non-null  float64            \n",
      " 15  rental_length       15861 non-null  timedelta64[ns]    \n",
      " 16  rental_length_days  15861 non-null  int64              \n",
      "dtypes: datetime64[ns, UTC](2), float64(8), int64(5), object(1), timedelta64[ns](1)\n",
      "memory usage: 2.1+ MB\n"
     ]
    }
   ],
   "source": [
    "# Convert date columns to datetime format\n",
    "movie_rentals['rental_date'] = pd.to_datetime(movie_rentals['rental_date']) \n",
    "movie_rentals['return_date'] = pd.to_datetime(movie_rentals['return_date'])\n",
    "\n",
    "# Create rental length and rental length days column from rental and return dates\n",
    "movie_rentals['rental_length'] = pd.to_datetime(\n",
    "    movie_rentals[\"return_date\"]) - pd.to_datetime(movie_rentals[\"rental_date\"]) \n",
    "  \n",
    "movie_rentals['rental_length_days'] = movie_rentals['rental_length'].dt.days \n",
    "\n",
    "movie_rentals.info()"
   ]
  },
  {
   "cell_type": "code",
   "execution_count": 5,
   "id": "e0b0734e-6b94-46ea-b421-1ec1a3002df2",
   "metadata": {
    "executionCancelledAt": null,
    "executionTime": 56,
    "lastExecutedAt": 1741899834487,
    "lastExecutedByKernel": "2efbfe2b-8bb0-45f0-944a-1ebd979cde12",
    "lastScheduledRunId": null,
    "lastSuccessfullyExecutedCode": "# Inspect special features\nmovie_rentals['special_features'].value_counts()",
    "outputsMetadata": {
     "0": {
      "height": 50,
      "tableState": {
       "customFilter": {
        "const": {
         "type": "boolean",
         "valid": true,
         "value": true
        },
        "id": "86cd9054-0616-49a7-a0c2-cfc43375fa58",
        "nodeType": "const"
       },
       "quickFilterText": ""
      },
      "type": "dataFrame"
     }
    }
   },
   "outputs": [
    {
     "data": {
      "application/vnd.microsoft.datawrangler.viewer.v0+json": {
       "columns": [
        {
         "name": "special_features",
         "rawType": "object",
         "type": "string"
        },
        {
         "name": "count",
         "rawType": "int64",
         "type": "integer"
        }
       ],
       "ref": "31df6674-b174-4655-8f8b-e624cafb6b1e",
       "rows": [
        [
         "{Trailers,Commentaries,\"Behind the Scenes\"}",
         "1308"
        ],
        [
         "{Trailers}",
         "1139"
        ],
        [
         "{Trailers,Commentaries}",
         "1129"
        ],
        [
         "{Trailers,\"Behind the Scenes\"}",
         "1122"
        ],
        [
         "{\"Behind the Scenes\"}",
         "1108"
        ],
        [
         "{Commentaries,\"Deleted Scenes\",\"Behind the Scenes\"}",
         "1101"
        ],
        [
         "{Commentaries}",
         "1089"
        ],
        [
         "{Commentaries,\"Behind the Scenes\"}",
         "1078"
        ],
        [
         "{Trailers,\"Deleted Scenes\"}",
         "1047"
        ],
        [
         "{\"Deleted Scenes\",\"Behind the Scenes\"}",
         "1035"
        ],
        [
         "{\"Deleted Scenes\"}",
         "1023"
        ],
        [
         "{Commentaries,\"Deleted Scenes\"}",
         "1011"
        ],
        [
         "{Trailers,Commentaries,\"Deleted Scenes\",\"Behind the Scenes\"}",
         "983"
        ],
        [
         "{Trailers,Commentaries,\"Deleted Scenes\"}",
         "916"
        ],
        [
         "{Trailers,\"Deleted Scenes\",\"Behind the Scenes\"}",
         "772"
        ]
       ],
       "shape": {
        "columns": 1,
        "rows": 15
       }
      },
      "text/plain": [
       "special_features\n",
       "{Trailers,Commentaries,\"Behind the Scenes\"}                     1308\n",
       "{Trailers}                                                      1139\n",
       "{Trailers,Commentaries}                                         1129\n",
       "{Trailers,\"Behind the Scenes\"}                                  1122\n",
       "{\"Behind the Scenes\"}                                           1108\n",
       "{Commentaries,\"Deleted Scenes\",\"Behind the Scenes\"}             1101\n",
       "{Commentaries}                                                  1089\n",
       "{Commentaries,\"Behind the Scenes\"}                              1078\n",
       "{Trailers,\"Deleted Scenes\"}                                     1047\n",
       "{\"Deleted Scenes\",\"Behind the Scenes\"}                          1035\n",
       "{\"Deleted Scenes\"}                                              1023\n",
       "{Commentaries,\"Deleted Scenes\"}                                 1011\n",
       "{Trailers,Commentaries,\"Deleted Scenes\",\"Behind the Scenes\"}     983\n",
       "{Trailers,Commentaries,\"Deleted Scenes\"}                         916\n",
       "{Trailers,\"Deleted Scenes\",\"Behind the Scenes\"}                  772\n",
       "Name: count, dtype: int64"
      ]
     },
     "execution_count": 5,
     "metadata": {},
     "output_type": "execute_result"
    }
   ],
   "source": [
    "# Determine the number of unique values in the 'special_features' column\n",
    "movie_rentals['special_features'].value_counts()"
   ]
  },
  {
   "cell_type": "code",
   "execution_count": 6,
   "id": "a8d16206-da27-40a3-964d-f34f873522c2",
   "metadata": {
    "executionCancelledAt": null,
    "executionTime": 60,
    "lastExecutedAt": 1741899834547,
    "lastExecutedByKernel": "2efbfe2b-8bb0-45f0-944a-1ebd979cde12",
    "lastScheduledRunId": null,
    "lastSuccessfullyExecutedCode": "# Dummy variables \nmovie_rentals[\"deleted_scenes\"] =  np.where(\n    movie_rentals[\"special_features\"].str.contains(\"Deleted Scenes\"), 1,0) \nmovie_rentals[\"behind_the_scenes\"] = np.where(\n    movie_rentals[\"special_features\"].str.contains(\"Behind the Scenes\"), 1,0)  \nmovie_rentals.info()",
    "outputsMetadata": {
     "0": {
      "height": 563,
      "type": "stream"
     }
    }
   },
   "outputs": [
    {
     "name": "stdout",
     "output_type": "stream",
     "text": [
      "<class 'pandas.core.frame.DataFrame'>\n",
      "RangeIndex: 15861 entries, 0 to 15860\n",
      "Data columns (total 19 columns):\n",
      " #   Column              Non-Null Count  Dtype              \n",
      "---  ------              --------------  -----              \n",
      " 0   rental_date         15861 non-null  datetime64[ns, UTC]\n",
      " 1   return_date         15861 non-null  datetime64[ns, UTC]\n",
      " 2   amount              15861 non-null  float64            \n",
      " 3   release_year        15861 non-null  float64            \n",
      " 4   rental_rate         15861 non-null  float64            \n",
      " 5   length              15861 non-null  float64            \n",
      " 6   replacement_cost    15861 non-null  float64            \n",
      " 7   special_features    15861 non-null  object             \n",
      " 8   NC-17               15861 non-null  int64              \n",
      " 9   PG                  15861 non-null  int64              \n",
      " 10  PG-13               15861 non-null  int64              \n",
      " 11  R                   15861 non-null  int64              \n",
      " 12  amount_2            15861 non-null  float64            \n",
      " 13  length_2            15861 non-null  float64            \n",
      " 14  rental_rate_2       15861 non-null  float64            \n",
      " 15  rental_length       15861 non-null  timedelta64[ns]    \n",
      " 16  rental_length_days  15861 non-null  int64              \n",
      " 17  deleted_scenes      15861 non-null  int32              \n",
      " 18  behind_the_scenes   15861 non-null  int32              \n",
      "dtypes: datetime64[ns, UTC](2), float64(8), int32(2), int64(5), object(1), timedelta64[ns](1)\n",
      "memory usage: 2.2+ MB\n"
     ]
    }
   ],
   "source": [
    "# Create binary columns for special features\n",
    "movie_rentals[\"deleted_scenes\"] =  np.where(\n",
    "    movie_rentals[\"special_features\"].str.contains(\"Deleted Scenes\"), 1,0) \n",
    " \n",
    "movie_rentals[\"behind_the_scenes\"] = np.where(\n",
    "    movie_rentals[\"special_features\"].str.contains(\"Behind the Scenes\"), 1,0) \n",
    "  \n",
    "movie_rentals.info()"
   ]
  },
  {
   "cell_type": "code",
   "execution_count": 7,
   "id": "cca45eb0-5bb3-43c2-8cda-042e52f4ac75",
   "metadata": {
    "executionCancelledAt": null,
    "executionTime": 64,
    "lastExecutedAt": 1741899834611,
    "lastExecutedByKernel": "2efbfe2b-8bb0-45f0-944a-1ebd979cde12",
    "lastScheduledRunId": null,
    "lastSuccessfullyExecutedCode": "# Define features and target variable\nX = movie_rentals.drop(columns=['rental_date', 'return_date', 'rental_length', 'rental_length_days', 'special_features',], axis=1)\ny = movie_rentals['rental_length_days']\n\nprint(X.head())\n\n# Perform train test split\nX_train, X_test, y_train, y_test = train_test_split(X, y, test_size=0.2, random_state=9)",
    "outputsMetadata": {
     "0": {
      "height": 185,
      "type": "stream"
     }
    }
   },
   "outputs": [
    {
     "name": "stdout",
     "output_type": "stream",
     "text": [
      "   amount  release_year  rental_rate  length  replacement_cost  NC-17  PG  \\\n",
      "0    2.99        2005.0         2.99   126.0             16.99      0   0   \n",
      "1    2.99        2005.0         2.99   126.0             16.99      0   0   \n",
      "2    2.99        2005.0         2.99   126.0             16.99      0   0   \n",
      "3    2.99        2005.0         2.99   126.0             16.99      0   0   \n",
      "4    2.99        2005.0         2.99   126.0             16.99      0   0   \n",
      "\n",
      "   PG-13  R  amount_2  length_2  rental_rate_2  deleted_scenes  \\\n",
      "0      0  1    8.9401   15876.0         8.9401               0   \n",
      "1      0  1    8.9401   15876.0         8.9401               0   \n",
      "2      0  1    8.9401   15876.0         8.9401               0   \n",
      "3      0  1    8.9401   15876.0         8.9401               0   \n",
      "4      0  1    8.9401   15876.0         8.9401               0   \n",
      "\n",
      "   behind_the_scenes  \n",
      "0                  1  \n",
      "1                  1  \n",
      "2                  1  \n",
      "3                  1  \n",
      "4                  1  \n"
     ]
    }
   ],
   "source": [
    "# Define the features and target variable\n",
    "X = movie_rentals.drop(columns=['rental_date', 'return_date', 'rental_length', 'rental_length_days', 'special_features',], axis=1)\n",
    "y = movie_rentals['rental_length_days']\n",
    "\n",
    "print(X.head())"
   ]
  },
  {
   "cell_type": "code",
   "execution_count": 8,
   "id": "96eb252a",
   "metadata": {},
   "outputs": [],
   "source": [
    "# Perform train test split\n",
    "X_train, X_test, y_train, y_test = train_test_split(X, y, test_size=0.2, random_state=9)"
   ]
  },
  {
   "cell_type": "code",
   "execution_count": 10,
   "id": "586de131-0d38-4eba-a8d0-6fa167d0fedf",
   "metadata": {
    "executionCancelledAt": null,
    "executionTime": 60,
    "lastExecutedAt": 1741899834671,
    "lastExecutedByKernel": "2efbfe2b-8bb0-45f0-944a-1ebd979cde12",
    "lastScheduledRunId": null,
    "lastSuccessfullyExecutedCode": "# initialize lasso\nlasso = Lasso(alpha=0.3, random_state=9)\nlasso_coef = lasso.fit(X, y).coef_ \n\nprint(lasso_coeffs)",
    "outputsMetadata": {
     "0": {
      "height": 101,
      "type": "stream"
     }
    }
   },
   "outputs": [
    {
     "name": "stdout",
     "output_type": "stream",
     "text": [
      "[ 5.87567707e-01  0.00000000e+00 -0.00000000e+00  0.00000000e+00\n",
      " -0.00000000e+00  0.00000000e+00  0.00000000e+00  0.00000000e+00\n",
      " -0.00000000e+00  4.32652862e-02  2.55377037e-06 -1.52154989e-01\n",
      " -0.00000000e+00  0.00000000e+00]\n"
     ]
    }
   ],
   "source": [
    "# Instantiate and fit a Lasso regression model and get the coefficients\n",
    "lasso = Lasso(alpha=0.3, random_state=9)\n",
    "lasso_coef = lasso.fit(X, y).coef_ \n",
    "\n",
    "print(lasso_coef)"
   ]
  },
  {
   "cell_type": "code",
   "execution_count": 11,
   "id": "35942141-2197-4aeb-9ee3-405db4e2fa55",
   "metadata": {
    "executionCancelledAt": null,
    "executionTime": 92,
    "lastExecutedAt": 1741899834763,
    "lastExecutedByKernel": "2efbfe2b-8bb0-45f0-944a-1ebd979cde12",
    "lastScheduledRunId": null,
    "lastSuccessfullyExecutedCode": "# Perform feature selection \nX_lasso_train, X_lasso_test = X_train.iloc[:, lasso_coef > 0], X_test.iloc[:, lasso_coef > 0]\n"
   },
   "outputs": [],
   "source": [
    "# Select the features with non-zero coefficients \n",
    "X_lasso_train, X_lasso_test = X_train.iloc[:, lasso_coef > 0], X_test.iloc[:, lasso_coef > 0]"
   ]
  },
  {
   "cell_type": "code",
   "execution_count": 13,
   "id": "29bed9d6-c0a9-421b-a8dd-6c9c75cbffcd",
   "metadata": {
    "executionCancelledAt": null,
    "executionTime": 56,
    "lastExecutedAt": 1741899834819,
    "lastExecutedByKernel": "2efbfe2b-8bb0-45f0-944a-1ebd979cde12",
    "lastScheduledRunId": null,
    "lastSuccessfullyExecutedCode": "# Linear Regression\nlr = LinearRegression()\nlr = lr.fit(X_lasso_train, y_train)\ny_test_pred = lr.predict(X_lasso_test) \nmse_lr_lasso = mean_squared_error(y_test, y_test_pred) \n\nprint(mse_lr_lasso)",
    "outputsMetadata": {
     "0": {
      "height": 38,
      "type": "stream"
     }
    }
   },
   "outputs": [
    {
     "name": "stdout",
     "output_type": "stream",
     "text": [
      "4.812297241276236\n"
     ]
    }
   ],
   "source": [
    "# Instantiate and fit a Linear Regression model using the selected features\n",
    "lr = LinearRegression()\n",
    "lr = lr.fit(X_lasso_train, y_train) \n",
    "\n",
    "# Predict on the test set and calculate the mean squared error\n",
    "y_test_pred = lr.predict(X_lasso_test) \n",
    "mse_lr_lasso = mean_squared_error(y_test, y_test_pred) \n",
    "\n",
    "print(mse_lr_lasso)"
   ]
  },
  {
   "cell_type": "code",
   "execution_count": 15,
   "id": "a359179b-d2b7-4d5a-9c5e-864748558b4d",
   "metadata": {
    "executionCancelledAt": null,
    "executionTime": 21521,
    "lastExecutedAt": 1741899856340,
    "lastExecutedByKernel": "2efbfe2b-8bb0-45f0-944a-1ebd979cde12",
    "lastScheduledRunId": null,
    "lastSuccessfullyExecutedCode": "# Random Search \nparams = {'n_estimators': np.arange(1, 101, 1), 'max_depth':np.arange(1,11,1)} \n\n# Initialize Random Forest \nrf = RandomForestRegressor()  \n\n# Initialize Random Search  \nrand_search = RandomizedSearchCV(rf, param_distributions=params, cv=5, random_state=5) \n\n# Fit \nrand_search.fit(X_train, y_train) \n\n# Best params \nbest_params = rand_search.best_params_  \n\nprint(best_params)",
    "outputsMetadata": {
     "0": {
      "height": 38,
      "type": "stream"
     }
    }
   },
   "outputs": [
    {
     "name": "stdout",
     "output_type": "stream",
     "text": [
      "{'n_estimators': 99, 'max_depth': 10}\n"
     ]
    }
   ],
   "source": [
    "# Define the parameter grid for Randomized Search\n",
    "params = {'n_estimators': np.arange(1, 101, 1), 'max_depth':np.arange(1,11,1)} \n",
    "\n",
    "# Instantiate the Random Forest Regressor \n",
    "rf = RandomForestRegressor()  \n",
    "\n",
    "# Instantiate the Randomized Search with cross-validation\n",
    "rand_search = RandomizedSearchCV(rf, param_distributions=params, cv=5, random_state=5) \n",
    "\n",
    "# Fit the Randomized Search to the training data\n",
    "rand_search.fit(X_train, y_train) \n",
    "\n",
    "# Get the best parameters from the Randomized Search\n",
    "best_params = rand_search.best_params_  \n",
    "\n",
    "print(best_params)"
   ]
  },
  {
   "cell_type": "code",
   "execution_count": null,
   "id": "659a0719-d125-4f0d-986c-7c7cdd38d7b7",
   "metadata": {
    "executionCancelledAt": null,
    "executionTime": 1795,
    "lastExecutedAt": 1741899858135,
    "lastExecutedByKernel": "2efbfe2b-8bb0-45f0-944a-1ebd979cde12",
    "lastScheduledRunId": null,
    "lastSuccessfullyExecutedCode": "# Fit Random Forest \nrf = RandomForestRegressor(n_estimators=best_params['n_estimators'], max_depth=best_params['max_depth'], random_state=9)\n\nrf.fit(X_train, y_train) \nrf_pred = rf.predict(X_test) \nmse_rf = mean_squared_error(y_test, rf_pred) \n\nprint(mse_rf)",
    "outputsMetadata": {
     "0": {
      "height": 38,
      "type": "stream"
     }
    }
   },
   "outputs": [
    {
     "name": "stdout",
     "output_type": "stream",
     "text": [
      "2.216615300433908\n"
     ]
    }
   ],
   "source": [
    "# Instantiate the Random Forest Regressor with the best parameters\n",
    "rf = RandomForestRegressor(n_estimators=best_params['n_estimators'], max_depth=best_params['max_depth'], random_state=9)\n",
    "\n",
    "# Fit the Random Forest model to the training data\n",
    "rf.fit(X_train, y_train)  \n",
    "\n",
    "# Predict on the test set and calculate the mean squared error\n",
    "rf_pred = rf.predict(X_test) \n",
    "mse_rf = mean_squared_error(y_test, rf_pred) \n",
    "\n",
    "print(mse_rf)"
   ]
  },
  {
   "cell_type": "code",
   "execution_count": 17,
   "id": "60e2cad5-831c-470e-9d5f-d25e28a10ec5",
   "metadata": {
    "executionCancelledAt": null,
    "executionTime": 48,
    "lastExecutedAt": 1741899858183,
    "lastExecutedByKernel": "2efbfe2b-8bb0-45f0-944a-1ebd979cde12",
    "lastScheduledRunId": null,
    "lastSuccessfullyExecutedCode": "# Best model and mse \nbest_model = rf\nbest_mse = mse_rf"
   },
   "outputs": [],
   "source": [
    "# Best model and mse \n",
    "best_model = rf\n",
    "best_mse = mse_rf"
   ]
  }
 ],
 "metadata": {
  "colab": {
   "name": "Welcome to DataCamp Workspaces.ipynb",
   "provenance": []
  },
  "kernelspec": {
   "display_name": "Python 3",
   "language": "python",
   "name": "python3"
  },
  "language_info": {
   "codemirror_mode": {
    "name": "ipython",
    "version": 3
   },
   "file_extension": ".py",
   "mimetype": "text/x-python",
   "name": "python",
   "nbconvert_exporter": "python",
   "pygments_lexer": "ipython3",
   "version": "3.12.8"
  }
 },
 "nbformat": 4,
 "nbformat_minor": 5
}
